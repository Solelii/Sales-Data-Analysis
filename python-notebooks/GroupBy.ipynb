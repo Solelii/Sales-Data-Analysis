{
 "cells": [
  {
   "cell_type": "code",
   "execution_count": 8,
   "metadata": {},
   "outputs": [
    {
     "name": "stdout",
     "output_type": "stream",
     "text": [
      "                   Sales\n",
      "Region OrderDate        \n",
      "East   2023-01-15    100\n",
      "       2023-01-20    150\n",
      "West   2023-01-15    200\n",
      "       2023-02-01    300\n",
      "East   2023-02-10    250\n",
      "West   2023-02-20    400\n"
     ]
    }
   ],
   "source": [
    "import pandas as pd\n",
    "import numpy as np\n",
    "\n",
    "# Sample data\n",
    "data = {\n",
    "    'Region': ['East', 'East', 'West', 'West', 'East', 'West'],\n",
    "    'OrderDate': pd.to_datetime([\n",
    "        '2023-01-15', '2023-01-20', '2023-01-15',\n",
    "        '2023-02-01', '2023-02-10', '2023-02-20'\n",
    "    ]),\n",
    "    'Sales': [100, 150, 200, 300, 250, 400]\n",
    "}\n",
    "\n",
    "df = pd.DataFrame(data)\n",
    "df = df.set_index(['Region', 'OrderDate'])\n",
    "print(df)\n"
   ]
  },
  {
   "cell_type": "code",
   "execution_count": 9,
   "metadata": {},
   "outputs": [
    {
     "name": "stdout",
     "output_type": "stream",
     "text": [
      "OrderDate\n",
      "2023-01-31    450\n",
      "2023-02-28    950\n",
      "Freq: ME, Name: Sales, dtype: int64\n"
     ]
    },
    {
     "name": "stderr",
     "output_type": "stream",
     "text": [
      "/tmp/ipykernel_34219/1200946215.py:2: FutureWarning: 'M' is deprecated and will be removed in a future version, please use 'ME' instead.\n",
      "  pd.Grouper(level='OrderDate', freq='M')\n"
     ]
    }
   ],
   "source": [
    "monthly_sales = df.groupby(\n",
    "    pd.Grouper(level='OrderDate', freq='M')\n",
    ")['Sales'].sum()\n",
    "\n",
    "print(monthly_sales)\n"
   ]
  },
  {
   "cell_type": "code",
   "execution_count": 10,
   "metadata": {},
   "outputs": [
    {
     "name": "stdout",
     "output_type": "stream",
     "text": [
      "    A  B  C\n",
      "0  10  1  5\n",
      "1  20  2  6\n",
      "2  30  3  7\n"
     ]
    },
    {
     "name": "stderr",
     "output_type": "stream",
     "text": [
      "/tmp/ipykernel_34219/4272436440.py:8: FutureWarning: DataFrame.groupby with axis=1 is deprecated. Do `frame.T.groupby(...)` without axis instead.\n",
      "  grouped = df2.groupby(lambda x: x[0], axis=1).sum()\n"
     ]
    }
   ],
   "source": [
    "df2 = pd.DataFrame({\n",
    "    'A': [10, 20, 30],\n",
    "    'B': [1, 2, 3],\n",
    "    'C': [5, 6, 7]\n",
    "})\n",
    "\n",
    "# Group columns by their first letter (A, B, C)\n",
    "grouped = df2.groupby(lambda x: x[0], axis=1).sum()\n",
    "print(grouped)\n"
   ]
  },
  {
   "cell_type": "code",
   "execution_count": 11,
   "metadata": {},
   "outputs": [
    {
     "name": "stdout",
     "output_type": "stream",
     "text": [
      "Unsorted groups:\n",
      "Category\n",
      "B    50\n",
      "A    70\n",
      "C    30\n",
      "Name: Value, dtype: int64\n",
      "\n",
      "Sorted groups:\n",
      "Category\n",
      "A    70\n",
      "B    50\n",
      "C    30\n",
      "Name: Value, dtype: int64\n"
     ]
    }
   ],
   "source": [
    "df3 = pd.DataFrame({\n",
    "    'Category': ['B', 'A', 'C', 'B', 'A'],\n",
    "    'Value': [10, 20, 30, 40, 50]\n",
    "})\n",
    "\n",
    "# Group without sorting\n",
    "grouped_unsorted = df3.groupby('Category', sort=False)['Value'].sum()\n",
    "print(\"Unsorted groups:\")\n",
    "print(grouped_unsorted)\n",
    "\n",
    "# Group with sorting (default True)\n",
    "grouped_sorted = df3.groupby('Category', sort=True)['Value'].sum()\n",
    "print(\"\\nSorted groups:\")\n",
    "print(grouped_sorted)\n"
   ]
  },
  {
   "cell_type": "code",
   "execution_count": 12,
   "metadata": {},
   "outputs": [
    {
     "name": "stdout",
     "output_type": "stream",
     "text": [
      "            Sales\n",
      "Date             \n",
      "2023-01-01    140\n",
      "2023-01-08     40\n",
      "            Sales\n",
      "Date             \n",
      "2023-01-01      5\n",
      "2023-01-08    175\n"
     ]
    }
   ],
   "source": [
    "dates = pd.date_range('2023-01-01', periods=8, freq='D')\n",
    "df4 = pd.DataFrame({\n",
    "    'Date': dates,\n",
    "    'Sales': [5, 10, 15, 20, 25, 30, 35, 40]\n",
    "}).set_index('Date')\n",
    "\n",
    "# closed='left', label='left' (default)\n",
    "print(df4.groupby(pd.Grouper(freq='W', closed='left', label='left')).sum())\n",
    "\n",
    "# closed='right', label='right'\n",
    "print(df4.groupby(pd.Grouper(freq='W', closed='right', label='right')).sum())\n"
   ]
  },
  {
   "cell_type": "code",
   "execution_count": 13,
   "metadata": {},
   "outputs": [
    {
     "name": "stdout",
     "output_type": "stream",
     "text": [
      "         Sales\n",
      "2023-01    100\n",
      "2023-02    200\n",
      "2023-03    300\n",
      "         Sales\n",
      "2023-01    100\n",
      "2023-02    200\n",
      "2023-03    300\n"
     ]
    },
    {
     "name": "stderr",
     "output_type": "stream",
     "text": [
      "/tmp/ipykernel_34219/2666044523.py:4: FutureWarning: 'M' is deprecated and will be removed in a future version, please use 'ME' instead.\n",
      "  print(df5.groupby(pd.Grouper(freq='M', convention='start')).sum())\n",
      "/tmp/ipykernel_34219/2666044523.py:4: FutureWarning: Resampling with a PeriodIndex is deprecated. Cast index to DatetimeIndex before resampling instead.\n",
      "  print(df5.groupby(pd.Grouper(freq='M', convention='start')).sum())\n",
      "/tmp/ipykernel_34219/2666044523.py:5: FutureWarning: 'M' is deprecated and will be removed in a future version, please use 'ME' instead.\n",
      "  print(df5.groupby(pd.Grouper(freq='M', convention='end')).sum())\n",
      "/tmp/ipykernel_34219/2666044523.py:5: FutureWarning: Resampling with a PeriodIndex is deprecated. Cast index to DatetimeIndex before resampling instead.\n",
      "  print(df5.groupby(pd.Grouper(freq='M', convention='end')).sum())\n"
     ]
    }
   ],
   "source": [
    "periods = pd.period_range('2023-01', periods=3, freq='M')\n",
    "df5 = pd.DataFrame({'Sales': [100, 200, 300]}, index=periods)\n",
    "\n",
    "print(df5.groupby(pd.Grouper(freq='M', convention='start')).sum())\n",
    "print(df5.groupby(pd.Grouper(freq='M', convention='end')).sum())\n"
   ]
  },
  {
   "cell_type": "code",
   "execution_count": 14,
   "metadata": {},
   "outputs": [
    {
     "name": "stdout",
     "output_type": "stream",
     "text": [
      "            Sales\n",
      "2023-01-01     30\n",
      "2023-01-02     70\n",
      "2023-01-03     50\n",
      "            Sales\n",
      "2023-01-01     30\n",
      "2023-01-02     70\n",
      "2023-01-03     50\n"
     ]
    },
    {
     "name": "stderr",
     "output_type": "stream",
     "text": [
      "/tmp/ipykernel_34219/2253615034.py:1: FutureWarning: 'H' is deprecated and will be removed in a future version, please use 'h' instead.\n",
      "  dates2 = pd.date_range('2023-01-01 06:00', periods=5, freq='12H')\n"
     ]
    }
   ],
   "source": [
    "dates2 = pd.date_range('2023-01-01 06:00', periods=5, freq='12H')\n",
    "df6 = pd.DataFrame({'Sales': [10, 20, 30, 40, 50]}, index=dates2)\n",
    "\n",
    "print(df6.groupby(pd.Grouper(freq='D', origin='start_day')).sum())  # Default\n",
    "print(df6.groupby(pd.Grouper(freq='D', origin='epoch')).sum())      # Epoch start (1970-01-01)\n"
   ]
  },
  {
   "cell_type": "code",
   "execution_count": null,
   "metadata": {},
   "outputs": [],
   "source": []
  }
 ],
 "metadata": {
  "kernelspec": {
   "display_name": "myenv",
   "language": "python",
   "name": "python3"
  },
  "language_info": {
   "codemirror_mode": {
    "name": "ipython",
    "version": 3
   },
   "file_extension": ".py",
   "mimetype": "text/x-python",
   "name": "python",
   "nbconvert_exporter": "python",
   "pygments_lexer": "ipython3",
   "version": "3.12.3"
  }
 },
 "nbformat": 4,
 "nbformat_minor": 2
}
